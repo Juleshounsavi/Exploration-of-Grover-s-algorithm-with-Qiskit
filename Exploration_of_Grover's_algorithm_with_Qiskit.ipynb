{
  "nbformat": 4,
  "nbformat_minor": 0,
  "metadata": {
    "colab": {
      "provenance": []
    },
    "kernelspec": {
      "name": "python3",
      "display_name": "Python 3"
    },
    "language_info": {
      "name": "python"
    }
  },
  "cells": [
    {
      "cell_type": "markdown",
      "source": [
        "# Exploration of Grover's algorithm with Qiskit"
      ],
      "metadata": {
        "id": "6AILPK4ffMw7"
      }
    },
    {
      "cell_type": "markdown",
      "source": [
        "## Project description\n",
        "This Qiskit project implements Grover's quantum search algorithm, simplified to search for a single target state $|111>$ in a Hilbert space of $2^3$ dimension (000,001,010,011,100,101,110,111)."
      ],
      "metadata": {
        "id": "57GlnoCBfQ9N"
      }
    },
    {
      "cell_type": "code",
      "source": [
        "#Importing packages\n",
        "from qiskit import QuantumCircuit, QuantumRegister, ClassicalRegister\n",
        "from qiskit import transpile\n",
        "from qiskit_aer import Aer\n",
        "from qiskit.visualization import plot_histogram"
      ],
      "metadata": {
        "id": "haWgzzmaXnfF"
      },
      "execution_count": 11,
      "outputs": []
    },
    {
      "cell_type": "code",
      "source": [
        "# Number of qubits\n",
        "n = 3\n",
        "# Create a quantum register and a classical register\n",
        "qr = QuantumRegister(n)\n",
        "cr = ClassicalRegister(n)"
      ],
      "metadata": {
        "id": "bMHSXqYSf9il"
      },
      "execution_count": 13,
      "outputs": []
    },
    {
      "cell_type": "code",
      "source": [
        "# Create a quantum circuit\n",
        "circuit = QuantumCircuit(qr, cr)\n",
        "# Initialization: uniform superposition\n",
        "circuit.h(qr)"
      ],
      "metadata": {
        "colab": {
          "base_uri": "https://localhost:8080/"
        },
        "id": "V7KkSihxf9fB",
        "outputId": "a477bb83-8a5d-4b1e-be35-eac24fde1c13"
      },
      "execution_count": 14,
      "outputs": [
        {
          "output_type": "execute_result",
          "data": {
            "text/plain": [
              "<qiskit.circuit.instructionset.InstructionSet at 0x78775cbe31f0>"
            ]
          },
          "metadata": {},
          "execution_count": 14
        }
      ]
    },
    {
      "cell_type": "code",
      "source": [
        "# Oracle: mark target state |111>\n",
        "circuit.mcx(control_qubits=[0, 1], target_qubit=2)"
      ],
      "metadata": {
        "colab": {
          "base_uri": "https://localhost:8080/"
        },
        "id": "hpaHZhRGf9cC",
        "outputId": "f367b573-a865-4f8a-ce39-f471eaaffad9"
      },
      "execution_count": 15,
      "outputs": [
        {
          "output_type": "execute_result",
          "data": {
            "text/plain": [
              "<qiskit.circuit.instructionset.InstructionSet at 0x7877a0cf2f80>"
            ]
          },
          "metadata": {},
          "execution_count": 15
        }
      ]
    },
    {
      "cell_type": "code",
      "source": [
        "# Diffusion inversion around the mean\n",
        "circuit.h(qr)\n",
        "circuit.z(qr)\n",
        "circuit.h(qr)\n",
        "# Measurement\n",
        "circuit.measure(qr, cr)\n",
        "# Running on a simulator\n",
        "simulator = Aer.get_backend('qasm_simulator')\n",
        "transpiled_circuit = transpile(circuit, simulator)\n",
        "result = simulator.run(transpiled_circuit).result()\n",
        "counts = result.get_counts(circuit)"
      ],
      "metadata": {
        "id": "wKq7NmZif9Y8"
      },
      "execution_count": 17,
      "outputs": []
    },
    {
      "cell_type": "code",
      "source": [
        "# Visualization of the results\n",
        "plot_histogram(counts)"
      ],
      "metadata": {
        "colab": {
          "base_uri": "https://localhost:8080/",
          "height": 446
        },
        "id": "RnVFu9epf9V0",
        "outputId": "0663566c-fa3b-4585-81ad-cdefd188afa1"
      },
      "execution_count": 18,
      "outputs": [
        {
          "output_type": "execute_result",
          "data": {
            "text/plain": [
              "<Figure size 640x480 with 1 Axes>"
            ],
            "image/png": "[encoded data removed]"
          },
          "metadata": {},
          "execution_count": 18
        }
      ]
    },
    {
      "cell_type": "markdown",
      "source": [
        " # Conclusion\n",
        "  \n",
        " In this project, we implement Grover's algorithm for finding the |111> state in a database of $2^3$ states (000,001,010,011,100,101,110,111). The histogram obtained after running the quantum circuit reveals a relatively uniform distribution of measurement results, although some slight variations are observed between different configurations. This distribution is in line with the original aim of Grover's algorithm, which is to amplify the probability of obtaining the marked |111> state while maintaining a certain superposition on the other states."
      ],
      "metadata": {
        "id": "sc50fyoidyVs"
      }
    }
  ]
}